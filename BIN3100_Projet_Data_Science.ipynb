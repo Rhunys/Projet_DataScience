{
 "cells": [
  {
   "cell_type": "markdown",
   "metadata": {
    "id": "BsqBC76R6MbT"
   },
   "source": [
    "#Théorie\n",
    "\n",
    "##Vidéos obligatoires\n",
    "Nous vous demandons de regarder et de comprendre les vidéos suivante:\n",
    "\n",
    "1.   [Projet COVID-19 : EXPLORATION DES DONNÉES](https://www.youtube.com/watch?v=u64sWJEP4S0&list=PLO_fdPEVlfKqMDNmCFzQISI2H_nJcEDJq&index=31)\n",
    "2.   [Projet COVID-19 : PRE-PROCESSING](https://www.youtube.com/watch?v=x8yu8sq8mdw&list=PLO_fdPEVlfKqMDNmCFzQISI2H_nJcEDJq&index=32)\n",
    "3.   [Projet COVID-19 : MODÉLISATION ](https://www.youtube.com/watch?v=r58meM7ieaQ&list=PLO_fdPEVlfKqMDNmCFzQISI2H_nJcEDJq&index=33)\n",
    "\n",
    "## Les vidéos suivantes sont en bonus:\n",
    "\n",
    "4.  [PROJET COVID-19 : MÉTHODOLOGIE DE TRAVAIL](https://www.youtube.com/watch?v=1bJYEE9qgS4&list=PLO_fdPEVlfKqMDNmCFzQISI2H_nJcEDJq&index=30)\n",
    "5.  [SK-LEARN : ENSEMBLE LEARNING](https://www.youtube.com/watch?v=7C_YpudYtw8&list=PLO_fdPEVlfKqMDNmCFzQISI2H_nJcEDJq&index=29)\n"
   ]
  },
  {
   "cell_type": "markdown",
   "metadata": {
    "id": "tKSyXx3M6Mw0"
   },
   "source": [
    "# Partie 1: Vidéos Machine Learnia\n",
    "\n",
    "https://www.youtube.com/playlist?list=PLO_fdPEVlfKqMDNmCFzQISI2H_nJcEDJq"
   ]
  },
  {
   "cell_type": "markdown",
   "metadata": {
    "id": "e11XhQyN8lLb"
   },
   "source": [
    "## Vidéos (27 à 29 /30) :\n",
    "[Projet COVID-19 : EXPLORATION DES DONNÉES](https://www.youtube.com/watch?v=u64sWJEP4S0&list=PLO_fdPEVlfKqMDNmCFzQISI2H_nJcEDJq&index=31) <strong> (Déjà vue en Semaine 04 !) </strong>\n",
    "\n",
    "[Projet COVID-19 : PRE-PROCESSING](https://www.youtube.com/watch?v=x8yu8sq8mdw&list=PLO_fdPEVlfKqMDNmCFzQISI2H_nJcEDJq&index=32)\n",
    "\n",
    "[Projet COVID-19 : MODÉLISATION ](https://www.youtube.com/watch?v=r58meM7ieaQ&list=PLO_fdPEVlfKqMDNmCFzQISI2H_nJcEDJq&index=33)\n",
    "\n",
    "\n",
    "Dans ces trois vidéos, vous allez suivre le développement complet d'un projet depuis l'analyse des données jusqu'à la création du modèle ainsi que son entrainement et son évaluation.\n",
    "\n",
    "Ce projet est celui de la détection des patients ayant le COVID-19.\n",
    "\n",
    "**Remarques :**\n",
    "\n",
    "1. Les vidéos sont assez longues (60, 45 et 37 minutes respectivement).  On ne vous demande pas de reproduire ce projet. Celui-ci est là pour vous donner un exemple des différentes étapes d'un projet et vous aider dans le projet que vous allez faire cette semaine. Les deux heures du lundi seront consacré à ce nouveau projet.\n",
    "2. La méthodologie utilisée pour la résolution de ce projet est expliquée plus en détails dans la première vidéo bonus : [PROJET COVID-19 : MÉTHODOLOGIE DE TRAVAIL ](https://www.youtube.com/watch?v=1bJYEE9qgS4&list=PLO_fdPEVlfKqMDNmCFzQISI2H_nJcEDJq&index=30)\n",
    "3. Pour la partie modélisation, des techniques dites d'Ensemble Learning sont utilisées. Si vous voulez en savoir plus sur ces techniques, vous pouvez regarder la seconde vidéo bonus : [SK-LEARN : ENSEMBLE LEARNING ](https://www.youtube.com/watch?v=7C_YpudYtw8&list=PLO_fdPEVlfKqMDNmCFzQISI2H_nJcEDJq&index=29)\n",
    "4. Si cela vous intéresse, le fichier de données pour ce projet se trouve sur moodle et s'apppelle [COVID-19.xlsx](https://moodle.vinci.be/mod/resource/view.php?id=192010)"
   ]
  },
  {
   "cell_type": "markdown",
   "metadata": {
    "id": "j_KIPXjI8lc8"
   },
   "source": [
    "# Partie 2 : Projet \"Customer Segmentation Classification\"\n",
    "\n",
    "Une entreprise automobile envisage de pénétrer de nouveaux marchés avec ses produits existants (P1, P2, P3, P4 et P5). Après une étude de marché intensive, elle en a déduit que le comportement du nouveau marché est similaire à celui de son marché existant.\n",
    "\n",
    "Sur le marché existant, l'équipe de vente a classé tous les clients en quatre segments (A, B, C, D). Elle a ensuite mené des actions de sensibilisation et de communication segmentées pour chaque segment de clients. Cette stratégie a exceptionnellement bien fonctionné. Elle prévoit d'utiliser la même stratégie pour les nouveaux marchés et a identifié 1000 nouveaux clients potentiels.\n",
    "\n",
    "Il vous est demandé d'aider le directeur à prévoir le bon groupe de nouveaux clients.\n",
    "\n",
    "Ces données se trouve dans le fichier [Customer_Segmentation.csv](https://moodle.vinci.be/mod/resource/view.php?id=191997) se trouvant sur moodle\n",
    "\n",
    "Nous vous demandons de fournir un modèle permettant de faire des prédictions <strong> sur le segment dans lequel classer chaque nouveau client. </strong>\n",
    "\n",
    "Pour faire, vous allez suivre la méthodologie présentée dans les vidéos :\n",
    "\n",
    "\n",
    "\n",
    "<ol type=\"I\">"
   ]
  },
  {
   "cell_type": "markdown",
   "metadata": {
    "id": "eWa-fn1MCVQR"
   },
   "source": [
    "# **I. EXPLORATORY DATA ANALYSIS**\n",
    "\n",
    "## 1) Objectif :\n",
    "- Comprendre du mieux possible nos données (un petit pas en avant vaut mieux qu'un grand pas en arriere)\n",
    "- Développer une premiere stratégie de modélisation\n",
    "\n",
    "## 2) Analyse de Forme :\n",
    "- **variable target** : Segmentation\n",
    "- **lignes et colonnes** : 7068 lignes et 11 colonnes\n",
    "- **types de variables** : \n",
    "    Quantitative : \n",
    "     -  ID : Identifiant unique\n",
    "     -  Age : Age du client\n",
    "     -  Work_Experience : Années d'expérience professionnelle.\n",
    "     -  Family_Size : Taille de la famille\n",
    "\n",
    "    Qualitative :\n",
    "     -  Gender : Sexe (Male, Female)\n",
    "     -  Ever_Married : Marié ou non (Yes, No)\n",
    "     -  Graduated : Diplomé ou non (Yes, No)\n",
    "     -  Profession : Métier (Artist, Healthcare, etc)\n",
    "     -  Spending_Score : Score de dépenses (Low, Average, High) \n",
    "     -  Var_1 : Catégories (ex. Cat_1, Cat_2, ...)\n",
    "\n",
    "- **Analyse des valeurs manquantes** :\n",
    "     -  Ever_Married : 124 valeurs manquantes.\n",
    "     -  Gratuated : 70 valeurs manquantes.\n",
    "     -  Profession : 114 valeurs manquantes.\n",
    "     -  Work_Experience : 725 valeurs manquantes.\n",
    "     -  Family_Size : 300 valeurs manquantes.\n",
    "     -  Var_1 : 67 valeurs manquantes."
   ]
  },
  {
   "cell_type": "markdown",
   "metadata": {},
   "source": []
  },
  {
   "cell_type": "markdown",
   "metadata": {},
   "source": []
  },
  {
   "cell_type": "code",
   "execution_count": null,
   "metadata": {
    "id": "6jP9jGOu59wa"
   },
   "outputs": [],
   "source": [
    "#Imports\n",
    "import numpy as np\n",
    "import pandas as pd\n",
    "import matplotlib.pyplot as plt\n",
    "import seaborn as sns\n",
    "\n",
    "# Charger le dataset\n",
    "data = pd.read_csv('Customer_Segmentation.csv')\n",
    "\n",
    "# 1. Aperçu des données\n",
    "print(\"Aperçu des 5 premières lignes du dataset :\")\n",
    "print(data.head())  # Affiche les premières lignes pour avoir une idée générale des données\n",
    "\n",
    "# 3. Informations sur les colonnes\n",
    "print(\"\\nInformations générales sur le dataset :\")\n",
    "print(data.info())  # Types des colonnes, valeurs non nulles, etc.\n",
    "\n",
    "# 4. Statistiques descriptives\n",
    "print(\"\\nStatistiques descriptives :\")\n",
    "print(data.describe())  # Donne des statistiques comme la moyenne, min, max pour les colonnes numériques\n",
    "\n",
    "# 5. Valeurs manquantes\n",
    "print(\"\\nAnalyse des valeurs manquantes :\")\n",
    "print(data.isnull().sum())  # Affiche le nombre de valeurs manquantes par colonne\n",
    "\n",
    "# 6. Distribution de la variable cible (Segmentation)\n",
    "plt.figure(figsize=(8, 5))\n",
    "sns.countplot(x='Segmentation', data=data, palette='viridis')\n",
    "plt.title(\"Distribution des Segments Clients\")\n",
    "plt.xlabel(\"Segments\")\n",
    "plt.ylabel(\"Nombre de clients\")\n",
    "plt.show()\n",
    "\n",
    "# 7. Distribution des âges\n",
    "plt.figure(figsize=(8, 5))\n",
    "sns.histplot(data['Age'], bins=20, kde=True, color='blue', alpha=0.7)\n",
    "plt.title(\"Distribution des âges\")\n",
    "plt.xlabel(\"Âge\")\n",
    "plt.ylabel(\"Nombre de clients\")\n",
    "plt.show()\n",
    "\n",
    "# 8. Analyse des relations entre variables\n",
    "plt.figure(figsize=(10, 8))\n",
    "sns.heatmap(data.corr(), annot=True, cmap='coolwarm', fmt='.2f')\n",
    "plt.title(\"Corrélations entre les variables numériques\")\n",
    "plt.show()\n",
    "\n"
   ]
  },
  {
   "cell_type": "code",
   "execution_count": null,
   "metadata": {
    "id": "OyRq-Rpc6c7W"
   },
   "outputs": [],
   "source": []
  },
  {
   "cell_type": "markdown",
   "metadata": {
    "id": "hb9gnDyUDjan"
   },
   "source": [
    "## 3) Analyse de Fond :\n",
    "- **Visualisation de la target** :\n",
    "    -   La variable cible est Segmentation (A,B,C,D) est visualisée avec un countplot pour examiner sa répartition\n",
    "    -   Observation : La répartition est relativement équilibrée entre les segments, mais le segment D contient légèrement plus de clients.\n",
    "    \n",
    "- **Signification des variables** :\n",
    "    -   ID : Identifiant unique de chaque client. \n",
    "    -   Gender : Sexe du client (Male, Female).\n",
    "    -   Ever_Married : Marié ou non (Yes, No).\n",
    "    -   Age : Age du client.\n",
    "    -   Graduated : Diplomé ou non (Yes, No).\n",
    "    -   Profession : Métier du client.\n",
    "    -   Work_Experience : Nombre d'années d'expérience professionnelle. \n",
    "    -   Spending_Score : Score de dépenses. (Lown Average, High).\n",
    "    -   Family_Size : Taille de la famille.\n",
    "    -   Var_1 : Catégorie supplémentaire.\n",
    "    -   Segmentation : Variable cible représentant les segments (A,B,C,D).\n",
    "\n",
    "- **Relation Variables / Target** :\n",
    "    -   Relation entre Age et Segmentation : Un boxplot montre la distribution des ages dans chaque segment. Par exemple, les segments A et D semblent regrouper les clients plus jeunes, tandis que les segments B et C incluent les clients légèrement plus agés.\n",
    "    -   Relation entre Spending_Score et Segmentation : Un countplot montre comment les scores de dépenses (Low, Average, High) varient par segment.Par exemple, les clients des segments A et C dépensent davantage (High).\n",
    "\n",
    "- **Choix de la métrique** : Etant donné le problème quelle mesure serait la plus appropriée et pourquoi?\n",
    "    -   Etant donné que c'est un problème de classification multi-classes (A,B,C,D), la métrique choisie dépend de la répartition des segments : \n",
    "        - Si les segments sont équilibrés, il faut utiliser Accuracy.\n",
    "        - Si les segments sont déséquilibrés, il faut privilégier F1-Score, car elle prend en compte les faux positifs et les faux négatifs.\n",
    "    -   Conclusion : Pour ce dataset, étant donné la légère variation dans la répartition des segments, F1-Score serait préférable pour évaluer les performances. \n",
    "\n",
    "- **Outliers et/ou autre analyse** :\n",
    "    Détection d'outliers : \n",
    "        -   Age : les ages extremes (ex. > 90 ans ou < 10 ans) pourraient etre des outliers à examiner. \n",
    "        -   Family_Size : Une taille de famille très élevée (ex. > 10) pourait etre inhabituelle. \n",
    "    Actions possibles : \n",
    "        -   Supprimer ou remplacer les valeurs aberrantes par des valeurs plus raisonnables (ex. médiane ou 95e percentile).\n",
    "        -   Standardiser certaines variables comme Age ou Family_Size. "
   ]
  },
  {
   "cell_type": "code",
   "execution_count": null,
   "metadata": {
    "id": "YVoJWCylEIYo"
   },
   "outputs": [],
   "source": [
    "#Votre code pour l'analyse de Fond\n",
    "# Imports nécessaires\n",
    "import matplotlib.pyplot as plt\n",
    "import seaborn as sns\n",
    "\n",
    "# 1. Visualisation de la target (Segmentation)\n",
    "plt.figure(figsize=(8, 5))\n",
    "sns.countplot(x='Segmentation', data=data, palette='viridis')\n",
    "plt.title(\"Distribution des Segments Clients\")\n",
    "plt.xlabel(\"Segments\")\n",
    "plt.ylabel(\"Nombre de clients\")\n",
    "plt.show()\n",
    "\n",
    "# 2. Relation entre Age et Segmentation\n",
    "plt.figure(figsize=(8, 5))\n",
    "sns.boxplot(x='Segmentation', y='Age', data=data, palette='viridis')\n",
    "plt.title(\"Relation entre Âge et Segmentation\")\n",
    "plt.xlabel(\"Segments\")\n",
    "plt.ylabel(\"Âge\")\n",
    "plt.show()\n",
    "\n",
    "# 3. Relation entre Spending_Score et Segmentation\n",
    "plt.figure(figsize=(8, 5))\n",
    "sns.countplot(x='Spending_Score', hue='Segmentation', data=data, palette='viridis')\n",
    "plt.title(\"Répartition des Scores de Dépenses par Segment\")\n",
    "plt.xlabel(\"Spending Score\")\n",
    "plt.ylabel(\"Nombre de clients\")\n",
    "plt.show()\n",
    "\n",
    "# 4. Détection des outliers dans Age\n",
    "plt.figure(figsize=(8, 5))\n",
    "sns.boxplot(data['Age'], color='blue')\n",
    "plt.title(\"Détection des outliers dans l'Âge\")\n",
    "plt.xlabel(\"Âge\")\n",
    "plt.show()\n",
    "\n",
    "# 5. Détection des outliers dans Family_Size\n",
    "plt.figure(figsize=(8, 5))\n",
    "sns.boxplot(data['Family_Size'], color='green')\n",
    "plt.title(\"Détection des outliers dans la Taille de la Famille\")\n",
    "plt.xlabel(\"Taille de la famille\")\n",
    "plt.show()\n",
    "\n",
    "# 6. Heatmap pour les corrélations entre variables numériques\n",
    "plt.figure(figsize=(10, 8))\n",
    "sns.heatmap(data.corr(), annot=True, cmap='coolwarm', fmt='.2f')\n",
    "plt.title(\"Corrélations entre les variables numériques\")\n",
    "plt.show()\n"
   ]
  },
  {
   "cell_type": "markdown",
   "metadata": {
    "id": "6VNmeIK-ERzu"
   },
   "source": [
    "## **II) PRE-PROCESSING :**\n",
    "\n",
    "##Objectif :  \n",
    "- Transformer le data pour le mettre dans un format propice au machine learning\n",
    "\n",
    "##Explications de vos choix :\n",
    "[ Vos explications ici ]"
   ]
  },
  {
   "cell_type": "code",
   "execution_count": null,
   "metadata": {
    "id": "E9LmHujhE4YI"
   },
   "outputs": [],
   "source": [
    "#Code pour votre pre-processing"
   ]
  },
  {
   "cell_type": "markdown",
   "metadata": {
    "id": "k-eORh3pFix2"
   },
   "source": [
    "##**III) MODELLING**\n",
    "\n",
    "##Objectif :  \n",
    "- Développer un modèle de machine learning capable de répondre a l'objectif final.\n",
    "\n",
    "##Explications de vos choix :\n",
    "[ Vos explications ici ]"
   ]
  },
  {
   "cell_type": "code",
   "execution_count": null,
   "metadata": {
    "id": "vQOvWy9qF2X0"
   },
   "outputs": [],
   "source": [
    "#Code votre modelling"
   ]
  },
  {
   "cell_type": "markdown",
   "metadata": {
    "id": "wHj6FnRdHMVA"
   },
   "source": [
    "##**IV) Tests du modèle**##\n",
    "\n",
    "Pour tester, votre modèle nous vous demandons de prédire les décisions pour les clients du fichier Customer_Segmentation et <strong> d'afficher le score de vos prédictions (l'accuracy, la précision ou le recall selon ce que vous avez choisi).</strong>\n",
    "\n",
    "\n",
    "Le fichier [Customer_Segmentation_test.csv](https://moodle.vinci.be/mod/resource/view.php?id=192001) contient les données des 1000 clients pour lesquels vous devez prédire le groupe.\n",
    "Pour ce faire, on vous demande de soumettre un fichier csv contenant les prédictions dans le même ordre que les clients du fichier Custom_Segmentation_test.csv. Ce fichier devra avoir la forme du fichier [Customer_Segmentation_predicition_submission.csv](https://moodle.vinci.be/mod/resource/view.php?id=192007) se trouvant aussi sur moodle.\n",
    "\n",
    "\n",
    "\n"
   ]
  },
  {
   "cell_type": "code",
   "execution_count": null,
   "metadata": {
    "id": "-YlWksUxNnJ1"
   },
   "outputs": [],
   "source": [
    "#Code pour vos tests et vos résultats"
   ]
  }
 ],
 "metadata": {
  "colab": {
   "provenance": [],
   "toc_visible": true
  },
  "kernelspec": {
   "display_name": "Python 3",
   "name": "python3"
  },
  "language_info": {
   "name": "python",
   "version": "3.12.6"
  }
 },
 "nbformat": 4,
 "nbformat_minor": 0
}
