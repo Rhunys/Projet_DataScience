{
 "cells": [
  {
   "cell_type": "markdown",
   "metadata": {
    "id": "BsqBC76R6MbT"
   },
   "source": [
    "#Théorie\n",
    "\n",
    "##Vidéos obligatoires\n",
    "Nous vous demandons de regarder et de comprendre les vidéos suivante:\n",
    "\n",
    "1.   [Projet COVID-19 : EXPLORATION DES DONNÉES](https://www.youtube.com/watch?v=u64sWJEP4S0&list=PLO_fdPEVlfKqMDNmCFzQISI2H_nJcEDJq&index=31)\n",
    "2.   [Projet COVID-19 : PRE-PROCESSING](https://www.youtube.com/watch?v=x8yu8sq8mdw&list=PLO_fdPEVlfKqMDNmCFzQISI2H_nJcEDJq&index=32)\n",
    "3.   [Projet COVID-19 : MODÉLISATION ](https://www.youtube.com/watch?v=r58meM7ieaQ&list=PLO_fdPEVlfKqMDNmCFzQISI2H_nJcEDJq&index=33)\n",
    "\n",
    "## Les vidéos suivantes sont en bonus:\n",
    "\n",
    "4.  [PROJET COVID-19 : MÉTHODOLOGIE DE TRAVAIL](https://www.youtube.com/watch?v=1bJYEE9qgS4&list=PLO_fdPEVlfKqMDNmCFzQISI2H_nJcEDJq&index=30)\n",
    "5.  [SK-LEARN : ENSEMBLE LEARNING](https://www.youtube.com/watch?v=7C_YpudYtw8&list=PLO_fdPEVlfKqMDNmCFzQISI2H_nJcEDJq&index=29)\n"
   ]
  },
  {
   "cell_type": "markdown",
   "metadata": {
    "id": "tKSyXx3M6Mw0"
   },
   "source": [
    "# Partie 1: Vidéos Machine Learnia\n",
    "\n",
    "https://www.youtube.com/playlist?list=PLO_fdPEVlfKqMDNmCFzQISI2H_nJcEDJq"
   ]
  },
  {
   "cell_type": "markdown",
   "metadata": {
    "id": "e11XhQyN8lLb"
   },
   "source": [
    "## Vidéos (27 à 29 /30) :\n",
    "[Projet COVID-19 : EXPLORATION DES DONNÉES](https://www.youtube.com/watch?v=u64sWJEP4S0&list=PLO_fdPEVlfKqMDNmCFzQISI2H_nJcEDJq&index=31) <strong> (Déjà vue en Semaine 04 !) </strong>\n",
    "\n",
    "[Projet COVID-19 : PRE-PROCESSING](https://www.youtube.com/watch?v=x8yu8sq8mdw&list=PLO_fdPEVlfKqMDNmCFzQISI2H_nJcEDJq&index=32)\n",
    "\n",
    "[Projet COVID-19 : MODÉLISATION ](https://www.youtube.com/watch?v=r58meM7ieaQ&list=PLO_fdPEVlfKqMDNmCFzQISI2H_nJcEDJq&index=33)\n",
    "\n",
    "\n",
    "Dans ces trois vidéos, vous allez suivre le développement complet d'un projet depuis l'analyse des données jusqu'à la création du modèle ainsi que son entrainement et son évaluation.\n",
    "\n",
    "Ce projet est celui de la détection des patients ayant le COVID-19.\n",
    "\n",
    "**Remarques :**\n",
    "\n",
    "1. Les vidéos sont assez longues (60, 45 et 37 minutes respectivement).  On ne vous demande pas de reproduire ce projet. Celui-ci est là pour vous donner un exemple des différentes étapes d'un projet et vous aider dans le projet que vous allez faire cette semaine. Les deux heures du lundi seront consacré à ce nouveau projet.\n",
    "2. La méthodologie utilisée pour la résolution de ce projet est expliquée plus en détails dans la première vidéo bonus : [PROJET COVID-19 : MÉTHODOLOGIE DE TRAVAIL ](https://www.youtube.com/watch?v=1bJYEE9qgS4&list=PLO_fdPEVlfKqMDNmCFzQISI2H_nJcEDJq&index=30)\n",
    "3. Pour la partie modélisation, des techniques dites d'Ensemble Learning sont utilisées. Si vous voulez en savoir plus sur ces techniques, vous pouvez regarder la seconde vidéo bonus : [SK-LEARN : ENSEMBLE LEARNING ](https://www.youtube.com/watch?v=7C_YpudYtw8&list=PLO_fdPEVlfKqMDNmCFzQISI2H_nJcEDJq&index=29)\n",
    "4. Si cela vous intéresse, le fichier de données pour ce projet se trouve sur moodle et s'apppelle [COVID-19.xlsx](https://moodle.vinci.be/mod/resource/view.php?id=192010)"
   ]
  },
  {
   "cell_type": "markdown",
   "metadata": {
    "id": "j_KIPXjI8lc8"
   },
   "source": [
    "# Partie 2 : Projet \"Customer Segmentation Classification\"\n",
    "\n",
    "Une entreprise automobile envisage de pénétrer de nouveaux marchés avec ses produits existants (P1, P2, P3, P4 et P5). Après une étude de marché intensive, elle en a déduit que le comportement du nouveau marché est similaire à celui de son marché existant.\n",
    "\n",
    "Sur le marché existant, l'équipe de vente a classé tous les clients en quatre segments (A, B, C, D). Elle a ensuite mené des actions de sensibilisation et de communication segmentées pour chaque segment de clients. Cette stratégie a exceptionnellement bien fonctionné. Elle prévoit d'utiliser la même stratégie pour les nouveaux marchés et a identifié 1000 nouveaux clients potentiels.\n",
    "\n",
    "Il vous est demandé d'aider le directeur à prévoir le bon groupe de nouveaux clients.\n",
    "\n",
    "Ces données se trouve dans le fichier [Customer_Segmentation.csv](https://moodle.vinci.be/mod/resource/view.php?id=191997) se trouvant sur moodle\n",
    "\n",
    "Nous vous demandons de fournir un modèle permettant de faire des prédictions <strong> sur le segment dans lequel classer chaque nouveau client. </strong>\n",
    "\n",
    "Pour faire, vous allez suivre la méthodologie présentée dans les vidéos :\n",
    "\n",
    "\n",
    "\n",
    "<ol type=\"I\">"
   ]
  },
  {
   "cell_type": "markdown",
   "metadata": {
    "id": "eWa-fn1MCVQR"
   },
   "source": [
    "# **I. EXPLORATORY DATA ANALYSIS**\n",
    "\n",
    "## 1) Objectif :\n",
    "- Comprendre du mieux possible nos données (un petit pas en avant vaut mieux qu'un grand pas en arriere)\n",
    "- Développer une premiere stratégie de modélisation\n",
    "\n",
    "## 2) Analyse de Forme :\n",
    "- **variable target** : Segmentation\n",
    "- **lignes et colonnes** : 7068 lignes et 11 colonnes\n",
    "- **types de variables** : \n",
    "    Quantitative : \n",
    "     -  ID : Identifiant unique\n",
    "     -  Age : Age du client\n",
    "     -  Work_Experience : Années d'expérience professionnelle.\n",
    "     -  Family_Size : Taille de la famille\n",
    "\n",
    "    Qualitative :\n",
    "     -  Gender : Sexe (Male, Female)\n",
    "     -  Ever_Married : Marié ou non (Yes, No)\n",
    "     -  Graduated : Diplomé ou non (Yes, No)\n",
    "     -  Profession : Métier (Artist, Healthcare, etc)\n",
    "     -  Spending_Score : Score de dépenses (Low, Average, High) \n",
    "     -  Var_1 : Catégories (ex. Cat_1, Cat_2, ...)\n",
    "\n",
    "- **Analyse des valeurs manquantes** :\n",
    "     -  Ever_Married : 124 valeurs manquantes.\n",
    "     -  Gratuated : 70 valeurs manquantes.\n",
    "     -  Profession : 114 valeurs manquantes.\n",
    "     -  Work_Experience : 725 valeurs manquantes.\n",
    "     -  Family_Size : 300 valeurs manquantes.\n",
    "     -  Var_1 : 67 valeurs manquantes."
   ]
  },
  {
   "cell_type": "markdown",
   "metadata": {},
   "source": []
  },
  {
   "cell_type": "markdown",
   "metadata": {},
   "source": []
  },
  {
   "cell_type": "code",
   "execution_count": 17,
   "metadata": {
    "id": "6jP9jGOu59wa"
   },
   "outputs": [
    {
     "name": "stdout",
     "output_type": "stream",
     "text": [
      "Aperçu des 5 premières lignes du dataset :\n",
      "       ID  Gender Ever_Married  Age Graduated  Profession  Work_Experience  \\\n",
      "0  460108    Male          Yes   42       Yes      Artist              1.0   \n",
      "1  459869  Female           No   23        No  Healthcare              1.0   \n",
      "2  460192    Male          Yes   41       Yes         NaN              0.0   \n",
      "3  463582  Female           No   18        No  Healthcare              1.0   \n",
      "4  467114    Male          Yes   59       Yes   Marketing              0.0   \n",
      "\n",
      "  Spending_Score  Family_Size  Var_1 Segmentation  \n",
      "0        Average          3.0  Cat_2            C  \n",
      "1            Low          3.0  Cat_6            D  \n",
      "2            Low          2.0  Cat_7            D  \n",
      "3            Low          3.0  Cat_6            D  \n",
      "4        Average          3.0  Cat_6            B  \n",
      "\n",
      "Informations générales sur le dataset :\n",
      "<class 'pandas.core.frame.DataFrame'>\n",
      "RangeIndex: 7068 entries, 0 to 7067\n",
      "Data columns (total 11 columns):\n",
      " #   Column           Non-Null Count  Dtype  \n",
      "---  ------           --------------  -----  \n",
      " 0   ID               7068 non-null   int64  \n",
      " 1   Gender           7068 non-null   object \n",
      " 2   Ever_Married     6944 non-null   object \n",
      " 3   Age              7068 non-null   int64  \n",
      " 4   Graduated        6998 non-null   object \n",
      " 5   Profession       6954 non-null   object \n",
      " 6   Work_Experience  6343 non-null   float64\n",
      " 7   Spending_Score   7068 non-null   object \n",
      " 8   Family_Size      6768 non-null   float64\n",
      " 9   Var_1            7001 non-null   object \n",
      " 10  Segmentation     7068 non-null   object \n",
      "dtypes: float64(2), int64(2), object(7)\n",
      "memory usage: 607.5+ KB\n",
      "None\n",
      "\n",
      "Statistiques descriptives :\n",
      "                  ID          Age  Work_Experience  Family_Size\n",
      "count    7068.000000  7068.000000      6343.000000  6768.000000\n",
      "mean   463481.143463    43.285795         2.618950     2.853132\n",
      "std      2598.297394    16.679589         3.389235     1.528316\n",
      "min    458982.000000    18.000000         0.000000     1.000000\n",
      "25%    461238.500000    30.000000         0.000000     2.000000\n",
      "50%    463487.000000    40.000000         1.000000     3.000000\n",
      "75%    465755.250000    53.000000         4.000000     4.000000\n",
      "max    467974.000000    89.000000        14.000000     9.000000\n",
      "\n",
      "Analyse des valeurs manquantes :\n",
      "ID                   0\n",
      "Gender               0\n",
      "Ever_Married       124\n",
      "Age                  0\n",
      "Graduated           70\n",
      "Profession         114\n",
      "Work_Experience    725\n",
      "Spending_Score       0\n",
      "Family_Size        300\n",
      "Var_1               67\n",
      "Segmentation         0\n",
      "dtype: int64\n"
     ]
    },
    {
     "name": "stderr",
     "output_type": "stream",
     "text": [
      "C:\\Users\\gauth\\AppData\\Local\\Temp\\ipykernel_22132\\4091521620.py:28: FutureWarning: \n",
      "\n",
      "Passing `palette` without assigning `hue` is deprecated and will be removed in v0.14.0. Assign the `x` variable to `hue` and set `legend=False` for the same effect.\n",
      "\n",
      "  sns.countplot(x='Segmentation', data=data, palette='viridis')\n"
     ]
    },
    {
     "data": {
      "image/png": "[encoded data removed]",
      "text/plain": [
       "<Figure size 800x500 with 1 Axes>"
      ]
     },
     "metadata": {},
     "output_type": "display_data"
    },
    {
     "data": {
      "image/png": "[encoded data removed]",
      "text/plain": [
       "<Figure size 800x500 with 1 Axes>"
      ]
     },
     "metadata": {},
     "output_type": "display_data"
    },
    {
     "ename": "ValueError",
     "evalue": "could not convert string to float: 'Male'",
     "output_type": "error",
     "traceback": [
      "\u001b[1;31m---------------------------------------------------------------------------\u001b[0m",
      "\u001b[1;31mValueError\u001b[0m                                Traceback (most recent call last)",
      "Cell \u001b[1;32mIn[17], line 44\u001b[0m\n\u001b[0;32m     42\u001b[0m \u001b[38;5;66;03m# 8. Analyse des relations entre variables\u001b[39;00m\n\u001b[0;32m     43\u001b[0m plt\u001b[38;5;241m.\u001b[39mfigure(figsize\u001b[38;5;241m=\u001b[39m(\u001b[38;5;241m10\u001b[39m, \u001b[38;5;241m8\u001b[39m))\n\u001b[1;32m---> 44\u001b[0m sns\u001b[38;5;241m.\u001b[39mheatmap(\u001b[43mdata\u001b[49m\u001b[38;5;241;43m.\u001b[39;49m\u001b[43mcorr\u001b[49m\u001b[43m(\u001b[49m\u001b[43m)\u001b[49m, annot\u001b[38;5;241m=\u001b[39m\u001b[38;5;28;01mTrue\u001b[39;00m, cmap\u001b[38;5;241m=\u001b[39m\u001b[38;5;124m'\u001b[39m\u001b[38;5;124mcoolwarm\u001b[39m\u001b[38;5;124m'\u001b[39m, fmt\u001b[38;5;241m=\u001b[39m\u001b[38;5;124m'\u001b[39m\u001b[38;5;124m.2f\u001b[39m\u001b[38;5;124m'\u001b[39m)\n\u001b[0;32m     45\u001b[0m plt\u001b[38;5;241m.\u001b[39mtitle(\u001b[38;5;124m\"\u001b[39m\u001b[38;5;124mCorrélations entre les variables numériques\u001b[39m\u001b[38;5;124m\"\u001b[39m)\n\u001b[0;32m     46\u001b[0m plt\u001b[38;5;241m.\u001b[39mshow()\n",
      "File \u001b[1;32m~\\AppData\\Roaming\\Python\\Python312\\site-packages\\pandas\\core\\frame.py:11049\u001b[0m, in \u001b[0;36mDataFrame.corr\u001b[1;34m(self, method, min_periods, numeric_only)\u001b[0m\n\u001b[0;32m  11047\u001b[0m cols \u001b[38;5;241m=\u001b[39m data\u001b[38;5;241m.\u001b[39mcolumns\n\u001b[0;32m  11048\u001b[0m idx \u001b[38;5;241m=\u001b[39m cols\u001b[38;5;241m.\u001b[39mcopy()\n\u001b[1;32m> 11049\u001b[0m mat \u001b[38;5;241m=\u001b[39m \u001b[43mdata\u001b[49m\u001b[38;5;241;43m.\u001b[39;49m\u001b[43mto_numpy\u001b[49m\u001b[43m(\u001b[49m\u001b[43mdtype\u001b[49m\u001b[38;5;241;43m=\u001b[39;49m\u001b[38;5;28;43mfloat\u001b[39;49m\u001b[43m,\u001b[49m\u001b[43m \u001b[49m\u001b[43mna_value\u001b[49m\u001b[38;5;241;43m=\u001b[39;49m\u001b[43mnp\u001b[49m\u001b[38;5;241;43m.\u001b[39;49m\u001b[43mnan\u001b[49m\u001b[43m,\u001b[49m\u001b[43m \u001b[49m\u001b[43mcopy\u001b[49m\u001b[38;5;241;43m=\u001b[39;49m\u001b[38;5;28;43;01mFalse\u001b[39;49;00m\u001b[43m)\u001b[49m\n\u001b[0;32m  11051\u001b[0m \u001b[38;5;28;01mif\u001b[39;00m method \u001b[38;5;241m==\u001b[39m \u001b[38;5;124m\"\u001b[39m\u001b[38;5;124mpearson\u001b[39m\u001b[38;5;124m\"\u001b[39m:\n\u001b[0;32m  11052\u001b[0m     correl \u001b[38;5;241m=\u001b[39m libalgos\u001b[38;5;241m.\u001b[39mnancorr(mat, minp\u001b[38;5;241m=\u001b[39mmin_periods)\n",
      "File \u001b[1;32m~\\AppData\\Roaming\\Python\\Python312\\site-packages\\pandas\\core\\frame.py:1993\u001b[0m, in \u001b[0;36mDataFrame.to_numpy\u001b[1;34m(self, dtype, copy, na_value)\u001b[0m\n\u001b[0;32m   1991\u001b[0m \u001b[38;5;28;01mif\u001b[39;00m dtype \u001b[38;5;129;01mis\u001b[39;00m \u001b[38;5;129;01mnot\u001b[39;00m \u001b[38;5;28;01mNone\u001b[39;00m:\n\u001b[0;32m   1992\u001b[0m     dtype \u001b[38;5;241m=\u001b[39m np\u001b[38;5;241m.\u001b[39mdtype(dtype)\n\u001b[1;32m-> 1993\u001b[0m result \u001b[38;5;241m=\u001b[39m \u001b[38;5;28;43mself\u001b[39;49m\u001b[38;5;241;43m.\u001b[39;49m\u001b[43m_mgr\u001b[49m\u001b[38;5;241;43m.\u001b[39;49m\u001b[43mas_array\u001b[49m\u001b[43m(\u001b[49m\u001b[43mdtype\u001b[49m\u001b[38;5;241;43m=\u001b[39;49m\u001b[43mdtype\u001b[49m\u001b[43m,\u001b[49m\u001b[43m \u001b[49m\u001b[43mcopy\u001b[49m\u001b[38;5;241;43m=\u001b[39;49m\u001b[43mcopy\u001b[49m\u001b[43m,\u001b[49m\u001b[43m \u001b[49m\u001b[43mna_value\u001b[49m\u001b[38;5;241;43m=\u001b[39;49m\u001b[43mna_value\u001b[49m\u001b[43m)\u001b[49m\n\u001b[0;32m   1994\u001b[0m \u001b[38;5;28;01mif\u001b[39;00m result\u001b[38;5;241m.\u001b[39mdtype \u001b[38;5;129;01mis\u001b[39;00m \u001b[38;5;129;01mnot\u001b[39;00m dtype:\n\u001b[0;32m   1995\u001b[0m     result \u001b[38;5;241m=\u001b[39m np\u001b[38;5;241m.\u001b[39masarray(result, dtype\u001b[38;5;241m=\u001b[39mdtype)\n",
      "File \u001b[1;32m~\\AppData\\Roaming\\Python\\Python312\\site-packages\\pandas\\core\\internals\\managers.py:1694\u001b[0m, in \u001b[0;36mBlockManager.as_array\u001b[1;34m(self, dtype, copy, na_value)\u001b[0m\n\u001b[0;32m   1692\u001b[0m         arr\u001b[38;5;241m.\u001b[39mflags\u001b[38;5;241m.\u001b[39mwriteable \u001b[38;5;241m=\u001b[39m \u001b[38;5;28;01mFalse\u001b[39;00m\n\u001b[0;32m   1693\u001b[0m \u001b[38;5;28;01melse\u001b[39;00m:\n\u001b[1;32m-> 1694\u001b[0m     arr \u001b[38;5;241m=\u001b[39m \u001b[38;5;28;43mself\u001b[39;49m\u001b[38;5;241;43m.\u001b[39;49m\u001b[43m_interleave\u001b[49m\u001b[43m(\u001b[49m\u001b[43mdtype\u001b[49m\u001b[38;5;241;43m=\u001b[39;49m\u001b[43mdtype\u001b[49m\u001b[43m,\u001b[49m\u001b[43m \u001b[49m\u001b[43mna_value\u001b[49m\u001b[38;5;241;43m=\u001b[39;49m\u001b[43mna_value\u001b[49m\u001b[43m)\u001b[49m\n\u001b[0;32m   1695\u001b[0m     \u001b[38;5;66;03m# The underlying data was copied within _interleave, so no need\u001b[39;00m\n\u001b[0;32m   1696\u001b[0m     \u001b[38;5;66;03m# to further copy if copy=True or setting na_value\u001b[39;00m\n\u001b[0;32m   1698\u001b[0m \u001b[38;5;28;01mif\u001b[39;00m na_value \u001b[38;5;129;01mis\u001b[39;00m lib\u001b[38;5;241m.\u001b[39mno_default:\n",
      "File \u001b[1;32m~\\AppData\\Roaming\\Python\\Python312\\site-packages\\pandas\\core\\internals\\managers.py:1753\u001b[0m, in \u001b[0;36mBlockManager._interleave\u001b[1;34m(self, dtype, na_value)\u001b[0m\n\u001b[0;32m   1751\u001b[0m     \u001b[38;5;28;01melse\u001b[39;00m:\n\u001b[0;32m   1752\u001b[0m         arr \u001b[38;5;241m=\u001b[39m blk\u001b[38;5;241m.\u001b[39mget_values(dtype)\n\u001b[1;32m-> 1753\u001b[0m     \u001b[43mresult\u001b[49m\u001b[43m[\u001b[49m\u001b[43mrl\u001b[49m\u001b[38;5;241;43m.\u001b[39;49m\u001b[43mindexer\u001b[49m\u001b[43m]\u001b[49m \u001b[38;5;241m=\u001b[39m arr\n\u001b[0;32m   1754\u001b[0m     itemmask[rl\u001b[38;5;241m.\u001b[39mindexer] \u001b[38;5;241m=\u001b[39m \u001b[38;5;241m1\u001b[39m\n\u001b[0;32m   1756\u001b[0m \u001b[38;5;28;01mif\u001b[39;00m \u001b[38;5;129;01mnot\u001b[39;00m itemmask\u001b[38;5;241m.\u001b[39mall():\n",
      "\u001b[1;31mValueError\u001b[0m: could not convert string to float: 'Male'"
     ]
    },
    {
     "data": {
      "text/plain": [
       "<Figure size 1000x800 with 0 Axes>"
      ]
     },
     "metadata": {},
     "output_type": "display_data"
    }
   ],
   "source": [
    "#Imports\n",
    "import numpy as np\n",
    "import pandas as pd\n",
    "import matplotlib.pyplot as plt\n",
    "import seaborn as sns\n",
    "\n",
    "# Charger le dataset\n",
    "data = pd.read_excel('Customer_Segmentation.xlsx')\n",
    "\n",
    "# 1. Aperçu des données\n",
    "print(\"Aperçu des 5 premières lignes du dataset :\")\n",
    "print(data.head())  # Affiche les premières lignes pour avoir une idée générale des données\n",
    "\n",
    "# 3. Informations sur les colonnes\n",
    "print(\"\\nInformations générales sur le dataset :\")\n",
    "print(data.info())  # Types des colonnes, valeurs non nulles, etc.\n",
    "\n",
    "# 4. Statistiques descriptives\n",
    "print(\"\\nStatistiques descriptives :\")\n",
    "print(data.describe())  # Donne des statistiques comme la moyenne, min, max pour les colonnes numériques\n",
    "\n",
    "# 5. Valeurs manquantes\n",
    "print(\"\\nAnalyse des valeurs manquantes :\")\n",
    "print(data.isnull().sum())  # Affiche le nombre de valeurs manquantes par colonne\n",
    "\n",
    "# 6. Distribution de la variable cible (Segmentation)\n",
    "plt.figure(figsize=(8, 5))\n",
    "sns.countplot(x='Segmentation', data=data, palette='viridis')\n",
    "plt.title(\"Distribution des Segments Clients\")\n",
    "plt.xlabel(\"Segments\")\n",
    "plt.ylabel(\"Nombre de clients\")\n",
    "plt.show()\n",
    "\n",
    "# 7. Distribution des âges\n",
    "plt.figure(figsize=(8, 5))\n",
    "sns.histplot(data['Age'], bins=20, kde=True, color='blue', alpha=0.7)\n",
    "plt.title(\"Distribution des âges\")\n",
    "plt.xlabel(\"Âge\")\n",
    "plt.ylabel(\"Nombre de clients\")\n",
    "plt.show()\n",
    "\n",
    "# 8. Analyse des relations entre variables\n",
    "plt.figure(figsize=(10, 8))\n",
    "sns.heatmap(data.corr(), annot=True, cmap='coolwarm', fmt='.2f')\n",
    "plt.title(\"Corrélations entre les variables numériques\")\n",
    "plt.show()"
   ]
  },
  {
   "cell_type": "markdown",
   "metadata": {
    "id": "hb9gnDyUDjan"
   },
   "source": [
    "## 3) Analyse de Fond :\n",
    "- **Visualisation de la target** :\n",
    "    -   La variable cible est Segmentation (A,B,C,D) est visualisée avec un countplot pour examiner sa répartition\n",
    "    -   Observation : La répartition est relativement équilibrée entre les segments, mais le segment D contient légèrement plus de clients.\n",
    "    \n",
    "- **Signification des variables** :\n",
    "    -   ID : Identifiant unique de chaque client. \n",
    "    -   Gender : Sexe du client (Male, Female).\n",
    "    -   Ever_Married : Marié ou non (Yes, No).\n",
    "    -   Age : Age du client.\n",
    "    -   Graduated : Diplomé ou non (Yes, No).\n",
    "    -   Profession : Métier du client.\n",
    "    -   Work_Experience : Nombre d'années d'expérience professionnelle. \n",
    "    -   Spending_Score : Score de dépenses. (Lown Average, High).\n",
    "    -   Family_Size : Taille de la famille.\n",
    "    -   Var_1 : Catégorie supplémentaire.\n",
    "    -   Segmentation : Variable cible représentant les segments (A,B,C,D).\n",
    "\n",
    "- **Relation Variables / Target** :\n",
    "    -   Relation entre Age et Segmentation : Un boxplot montre la distribution des ages dans chaque segment. Par exemple, les segments A et D semblent regrouper les clients plus jeunes, tandis que les segments B et C incluent les clients légèrement plus agés.\n",
    "    -   Relation entre Spending_Score et Segmentation : Un countplot montre comment les scores de dépenses (Low, Average, High) varient par segment.Par exemple, les clients des segments A et C dépensent davantage (High).\n",
    "\n",
    "- **Choix de la métrique** : Etant donné le problème quelle mesure serait la plus appropriée et pourquoi?\n",
    "    -   Etant donné que c'est un problème de classification multi-classes (A,B,C,D), la métrique choisie dépend de la répartition des segments : \n",
    "        - Si les segments sont équilibrés, il faut utiliser Accuracy.\n",
    "        - Si les segments sont déséquilibrés, il faut privilégier F1-Score, car elle prend en compte les faux positifs et les faux négatifs.\n",
    "    -   Conclusion : Pour ce dataset, étant donné la légère variation dans la répartition des segments, F1-Score serait préférable pour évaluer les performances. \n",
    "\n",
    "- **Outliers et/ou autre analyse** :\n",
    "    Détection d'outliers : \n",
    "        -   Age : les ages extremes (ex. > 90 ans ou < 10 ans) pourraient etre des outliers à examiner. \n",
    "        -   Family_Size : Une taille de famille très élevée (ex. > 10) pourait etre inhabituelle. \n",
    "    Actions possibles : \n",
    "        -   Supprimer ou remplacer les valeurs aberrantes par des valeurs plus raisonnables (ex. médiane ou 95e percentile).\n",
    "        -   Standardiser certaines variables comme Age ou Family_Size. "
   ]
  },
  {
   "cell_type": "code",
   "execution_count": null,
   "metadata": {
    "id": "YVoJWCylEIYo"
   },
   "outputs": [],
   "source": [
    "#Votre code pour l'analyse de Fond\n",
    "# Imports nécessaires\n",
    "import matplotlib.pyplot as plt\n",
    "import seaborn as sns\n",
    "\n",
    "# 1. Visualisation de la target (Segmentation)\n",
    "plt.figure(figsize=(8, 5))\n",
    "sns.countplot(x='Segmentation', data=data, palette='viridis')\n",
    "plt.title(\"Distribution des Segments Clients\")\n",
    "plt.xlabel(\"Segments\")\n",
    "plt.ylabel(\"Nombre de clients\")\n",
    "plt.show()\n",
    "\n",
    "# 2. Relation entre Age et Segmentation\n",
    "plt.figure(figsize=(8, 5))\n",
    "sns.boxplot(x='Segmentation', y='Age', data=data, palette='viridis')\n",
    "plt.title(\"Relation entre Âge et Segmentation\")\n",
    "plt.xlabel(\"Segments\")\n",
    "plt.ylabel(\"Âge\")\n",
    "plt.show()\n",
    "\n",
    "# 3. Relation entre Spending_Score et Segmentation\n",
    "plt.figure(figsize=(8, 5))\n",
    "sns.countplot(x='Spending_Score', hue='Segmentation', data=data, palette='viridis')\n",
    "plt.title(\"Répartition des Scores de Dépenses par Segment\")\n",
    "plt.xlabel(\"Spending Score\")\n",
    "plt.ylabel(\"Nombre de clients\")\n",
    "plt.show()\n",
    "\n",
    "# 4. Détection des outliers dans Age\n",
    "plt.figure(figsize=(8, 5))\n",
    "sns.boxplot(data['Age'], color='blue')\n",
    "plt.title(\"Détection des outliers dans l'Âge\")\n",
    "plt.xlabel(\"Âge\")\n",
    "plt.show()\n",
    "\n",
    "# 5. Détection des outliers dans Family_Size\n",
    "plt.figure(figsize=(8, 5))\n",
    "sns.boxplot(data['Family_Size'], color='green')\n",
    "plt.title(\"Détection des outliers dans la Taille de la Famille\")\n",
    "plt.xlabel(\"Taille de la famille\")\n",
    "plt.show()\n",
    "\n",
    "# 6. Heatmap pour les corrélations entre variables numériques\n",
    "plt.figure(figsize=(10, 8))\n",
    "sns.heatmap(data.corr(), annot=True, cmap='coolwarm', fmt='.2f')\n",
    "plt.title(\"Corrélations entre les variables numériques\")\n",
    "plt.show()\n"
   ]
  },
  {
   "cell_type": "markdown",
   "metadata": {
    "id": "6VNmeIK-ERzu"
   },
   "source": [
    "## **II) PRE-PROCESSING :**\n",
    "\n",
    "##Objectif :  \n",
    "- Transformer le data pour le mettre dans un format propice au machine learning\n",
    "\n",
    "##Explications de vos choix :\n",
    "\n",
    "1) Chargement des données :\n",
    "\n",
    "Utilisation de pd.read_excel pour charger les données à partir d'un fichier Excel (Customer_segmentation.xlsx). Cela permet de travailler avec un format de fichier souvent utilisé pour stocker des données de tables.\n",
    "\n",
    "2) Affichage des premières lignes :\n",
    "\n",
    "Affichage des premières lignes du DataFrame avec print(df.head()) pour obtenir un aperçu des données et vérifier leur structure.\n",
    "\n",
    "3) Séparation des caractéristiques et de la cible :\n",
    "\n",
    "Séparation des caractéristiques (X) et de la cible (y). La colonne Segmentation est considérée comme la cible, car elle contient les labels de segmentation des clients.\n",
    "\n",
    "4) Définition des colonnes quantitatives et qualitatives :\n",
    "\n",
    "Identification des colonnes quantitatives (de type int64 et float64) et qualitatives (de type object). Cette distinction est importante pour appliquer des transformations appropriées à chaque type de données.\n",
    "\n",
    "5) Pipeline pour les caractéristiques quantitatives :\n",
    "\n",
    "Imputation : Utilisation de SimpleImputer avec la stratégie median pour remplacer les valeurs manquantes par la médiane des colonnes. Cela permet de gérer les valeurs manquantes sans introduire de biais important.\n",
    "Normalisation : Utilisation de StandardScaler pour mettre à l'échelle les données quantitatives. Cela assure que toutes les caractéristiques quantitatives ont une distribution similaire, ce qui est important pour de nombreux algorithmes de machine learning.\n",
    "\n",
    "6) Pipeline pour les caractéristiques qualitatives :\n",
    "\n",
    "Imputation : Utilisation de SimpleImputer avec la stratégie constant et la valeur missing pour remplacer les valeurs manquantes par une valeur constante. Cela permet de gérer les valeurs manquantes dans les colonnes qualitatives.\n",
    "Encodage : Utilisation de OneHotEncoder pour convertir les variables qualitatives en variables quantitatives. Cela permet de représenter les catégories sous forme de vecteurs binaires, ce qui est nécessaire pour de nombreux algorithmes de machine learning.\n",
    "\n",
    "7) Combinaison des transformations :\n",
    "\n",
    "Utilisation de ColumnTransformer pour combiner les transformations des colonnes quantitatives et qualitatives. Cela permet d'appliquer les transformations appropriées à chaque type de données de manière efficace et structurée."
   ]
  },
  {
   "cell_type": "code",
   "execution_count": 2,
   "metadata": {
    "id": "E9LmHujhE4YI"
   },
   "outputs": [],
   "source": [
    "import pandas as pd\n",
    "from sklearn.preprocessing import StandardScaler, OneHotEncoder\n",
    "from sklearn.compose import ColumnTransformer\n",
    "from sklearn.pipeline import Pipeline\n",
    "from sklearn.impute import SimpleImputer"
   ]
  },
  {
   "cell_type": "code",
   "execution_count": 3,
   "metadata": {},
   "outputs": [
    {
     "name": "stdout",
     "output_type": "stream",
     "text": [
      "       ID  Gender Ever_Married  Age Graduated  Profession  Work_Experience  \\\n",
      "0  460108    Male          Yes   42       Yes      Artist              1.0   \n",
      "1  459869  Female           No   23        No  Healthcare              1.0   \n",
      "2  460192    Male          Yes   41       Yes         NaN              0.0   \n",
      "3  463582  Female           No   18        No  Healthcare              1.0   \n",
      "4  467114    Male          Yes   59       Yes   Marketing              0.0   \n",
      "\n",
      "  Spending_Score  Family_Size  Var_1 Segmentation  \n",
      "0        Average          3.0  Cat_2            C  \n",
      "1            Low          3.0  Cat_6            D  \n",
      "2            Low          2.0  Cat_7            D  \n",
      "3            Low          3.0  Cat_6            D  \n",
      "4        Average          3.0  Cat_6            B  \n",
      "[[-1.29830485 -0.07709339 -0.44734294 ...  0.          0.\n",
      "   0.        ]\n",
      " [-1.39029467 -1.21629082 -0.44734294 ...  1.          0.\n",
      "   0.        ]\n",
      " [-1.2659737  -0.13705115 -0.75524244 ...  0.          1.\n",
      "   0.        ]\n",
      " ...\n",
      " [-1.27251691 -0.91650202 -0.75524244 ...  0.          0.\n",
      "   0.        ]\n",
      " [-1.72977175  1.72163938 -0.75524244 ...  1.          0.\n",
      "   0.        ]\n",
      " [ 1.32282767  0.76231523 -0.44734294 ...  1.          0.\n",
      "   0.        ]]\n"
     ]
    }
   ],
   "source": [
    "# Charger les données\n",
    "df = pd.read_excel('Customer_segmentation.xlsx')\n",
    "\n",
    "# Afficher les premières lignes du DataFrame\n",
    "print(df.head())\n",
    "\n",
    "# Séparer les caractéristiques et la cible (si applicable)\n",
    "X = df.drop('Segmentation', axis=1)\n",
    "y = df['Segmentation']\n",
    "\n",
    "# Définir les colonnes quantitatives et qualitatives\n",
    "quantitative_features = X.select_dtypes(include=['int64', 'float64']).columns\n",
    "qualitative_features = X.select_dtypes(include=['object']).columns\n",
    "\n",
    "# Pipeline pour les caractéristiques quantitatives\n",
    "quantitative_transformer = Pipeline(steps=[\n",
    "    ('imputer', SimpleImputer(strategy='median')),\n",
    "    ('scaler', StandardScaler())\n",
    "])\n",
    "\n",
    "# Pipeline pour les caractéristiques qualitatives\n",
    "qualitative_transformer = Pipeline(steps=[\n",
    "    ('imputer', SimpleImputer(strategy='constant', fill_value='missing')),\n",
    "    ('onehot', OneHotEncoder(handle_unknown='ignore'))\n",
    "])\n",
    "\n",
    "# Combiner les transformations\n",
    "preprocessor = ColumnTransformer(\n",
    "    transformers=[\n",
    "        ('quant', quantitative_transformer, quantitative_features),\n",
    "        ('qual', qualitative_transformer, qualitative_features)\n",
    "    ])\n",
    "\n",
    "# Appliquer les transformations\n",
    "X_preprocessed = preprocessor.fit_transform(X)\n",
    "\n",
    "# Afficher les données pré-traitées\n",
    "print(X_preprocessed)"
   ]
  },
  {
   "cell_type": "markdown",
   "metadata": {
    "id": "k-eORh3pFix2"
   },
   "source": [
    "## **III) MODELLING**\n",
    "\n",
    "##Objectif :  \n",
    "- Développer un modèle de machine learning capable de répondre a l'objectif final.\n",
    "\n",
    "##Explications de vos choix :\n",
    "[ Vos explications ici ]"
   ]
  },
  {
   "cell_type": "code",
   "execution_count": null,
   "metadata": {
    "id": "vQOvWy9qF2X0"
   },
   "outputs": [],
   "source": [
    "#Code votre modelling"
   ]
  },
  {
   "cell_type": "markdown",
   "metadata": {
    "id": "wHj6FnRdHMVA"
   },
   "source": [
    "## **IV) Tests du modèle**##\n",
    "\n",
    "Pour tester, votre modèle nous vous demandons de prédire les décisions pour les clients du fichier Customer_Segmentation et <strong> d'afficher le score de vos prédictions (l'accuracy, la précision ou le recall selon ce que vous avez choisi).</strong>\n",
    "\n",
    "\n",
    "Le fichier [Customer_Segmentation_test.csv](https://moodle.vinci.be/mod/resource/view.php?id=192001) contient les données des 1000 clients pour lesquels vous devez prédire le groupe.\n",
    "Pour ce faire, on vous demande de soumettre un fichier csv contenant les prédictions dans le même ordre que les clients du fichier Custom_Segmentation_test.csv. Ce fichier devra avoir la forme du fichier [Customer_Segmentation_predicition_submission.csv](https://moodle.vinci.be/mod/resource/view.php?id=192007) se trouvant aussi sur moodle.\n",
    "\n",
    "\n",
    "\n"
   ]
  },
  {
   "cell_type": "code",
   "execution_count": null,
   "metadata": {
    "id": "-YlWksUxNnJ1"
   },
   "outputs": [],
   "source": [
    "#Code pour vos tests et vos résultats\n",
    "import pandas as pd\n",
    "from sklearn.metrics import accuracy_score, classification_report\n",
    "import joblib\n",
    "\n",
    "# Charger les données test\n",
    "test_data = pd.read_csv('Customer_Segmentation_test.csv')  # Remplace avec le chemin correct\n",
    "\n",
    "# Charger le modèle sauvegardé\n",
    "model = joblib.load('model.pkl')  # Modèle préalablement entraîné et sauvegardé\n"
   ]
  }
 ],
 "metadata": {
  "colab": {
   "provenance": [],
   "toc_visible": true
  },
  "kernelspec": {
   "display_name": "Python 3",
   "name": "python3"
  },
  "language_info": {
   "codemirror_mode": {
    "name": "ipython",
    "version": 3
   },
   "file_extension": ".py",
   "mimetype": "text/x-python",
   "name": "python",
   "nbconvert_exporter": "python",
   "pygments_lexer": "ipython3",
   "version": "3.12.6"
  }
 },
 "nbformat": 4,
 "nbformat_minor": 0
}
