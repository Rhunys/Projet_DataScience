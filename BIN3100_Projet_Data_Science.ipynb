{
 "cells": [
  {
   "cell_type": "markdown",
   "metadata": {
    "colab_type": "text",
    "id": "view-in-github"
   },
   "source": [
    "<a href=\"https://colab.research.google.com/github/Rhunys/Projet_DataScience/blob/main/BIN3100_Projet_Data_Science.ipynb\" target=\"_parent\"><img src=\"https://colab.research.google.com/assets/colab-badge.svg\" alt=\"Open In Colab\"/></a>"
   ]
  },
  {
   "cell_type": "markdown",
   "metadata": {
    "id": "BsqBC76R6MbT"
   },
   "source": [
    "#Théorie\n",
    "\n",
    "##Vidéos obligatoires\n",
    "Nous vous demandons de regarder et de comprendre les vidéos suivante:\n",
    "\n",
    "1.   [Projet COVID-19 : EXPLORATION DES DONNÉES](https://www.youtube.com/watch?v=u64sWJEP4S0&list=PLO_fdPEVlfKqMDNmCFzQISI2H_nJcEDJq&index=31)\n",
    "2.   [Projet COVID-19 : PRE-PROCESSING](https://www.youtube.com/watch?v=x8yu8sq8mdw&list=PLO_fdPEVlfKqMDNmCFzQISI2H_nJcEDJq&index=32)\n",
    "3.   [Projet COVID-19 : MODÉLISATION ](https://www.youtube.com/watch?v=r58meM7ieaQ&list=PLO_fdPEVlfKqMDNmCFzQISI2H_nJcEDJq&index=33)\n",
    "\n",
    "## Les vidéos suivantes sont en bonus:\n",
    "\n",
    "4.  [PROJET COVID-19 : MÉTHODOLOGIE DE TRAVAIL](https://www.youtube.com/watch?v=1bJYEE9qgS4&list=PLO_fdPEVlfKqMDNmCFzQISI2H_nJcEDJq&index=30)\n",
    "5.  [SK-LEARN : ENSEMBLE LEARNING](https://www.youtube.com/watch?v=7C_YpudYtw8&list=PLO_fdPEVlfKqMDNmCFzQISI2H_nJcEDJq&index=29)\n"
   ]
  },
  {
   "cell_type": "markdown",
   "metadata": {
    "id": "tKSyXx3M6Mw0"
   },
   "source": [
    "# Partie 1: Vidéos Machine Learnia\n",
    "\n",
    "https://www.youtube.com/playlist?list=PLO_fdPEVlfKqMDNmCFzQISI2H_nJcEDJq"
   ]
  },
  {
   "cell_type": "markdown",
   "metadata": {
    "id": "e11XhQyN8lLb"
   },
   "source": [
    "## Vidéos (27 à 29 /30) :\n",
    "[Projet COVID-19 : EXPLORATION DES DONNÉES](https://www.youtube.com/watch?v=u64sWJEP4S0&list=PLO_fdPEVlfKqMDNmCFzQISI2H_nJcEDJq&index=31) <strong> (Déjà vue en Semaine 04 !) </strong>\n",
    "\n",
    "[Projet COVID-19 : PRE-PROCESSING](https://www.youtube.com/watch?v=x8yu8sq8mdw&list=PLO_fdPEVlfKqMDNmCFzQISI2H_nJcEDJq&index=32)\n",
    "\n",
    "[Projet COVID-19 : MODÉLISATION ](https://www.youtube.com/watch?v=r58meM7ieaQ&list=PLO_fdPEVlfKqMDNmCFzQISI2H_nJcEDJq&index=33)\n",
    "\n",
    "\n",
    "Dans ces trois vidéos, vous allez suivre le développement complet d'un projet depuis l'analyse des données jusqu'à la création du modèle ainsi que son entrainement et son évaluation.\n",
    "\n",
    "Ce projet est celui de la détection des patients ayant le COVID-19.\n",
    "\n",
    "**Remarques :**\n",
    "\n",
    "1. Les vidéos sont assez longues (60, 45 et 37 minutes respectivement).  On ne vous demande pas de reproduire ce projet. Celui-ci est là pour vous donner un exemple des différentes étapes d'un projet et vous aider dans le projet que vous allez faire cette semaine. Les deux heures du lundi seront consacré à ce nouveau projet.\n",
    "2. La méthodologie utilisée pour la résolution de ce projet est expliquée plus en détails dans la première vidéo bonus : [PROJET COVID-19 : MÉTHODOLOGIE DE TRAVAIL ](https://www.youtube.com/watch?v=1bJYEE9qgS4&list=PLO_fdPEVlfKqMDNmCFzQISI2H_nJcEDJq&index=30)\n",
    "3. Pour la partie modélisation, des techniques dites d'Ensemble Learning sont utilisées. Si vous voulez en savoir plus sur ces techniques, vous pouvez regarder la seconde vidéo bonus : [SK-LEARN : ENSEMBLE LEARNING ](https://www.youtube.com/watch?v=7C_YpudYtw8&list=PLO_fdPEVlfKqMDNmCFzQISI2H_nJcEDJq&index=29)\n",
    "4. Si cela vous intéresse, le fichier de données pour ce projet se trouve sur moodle et s'apppelle [COVID-19.xlsx](https://moodle.vinci.be/mod/resource/view.php?id=192010)"
   ]
  },
  {
   "cell_type": "code",
   "execution_count": null,
   "metadata": {
    "id": "Y2z5JIt3CBLX"
   },
   "outputs": [],
   "source": []
  },
  {
   "cell_type": "code",
   "execution_count": null,
   "metadata": {
    "id": "bUVC88SMCKxR"
   },
   "outputs": [],
   "source": []
  },
  {
   "cell_type": "code",
   "execution_count": null,
   "metadata": {
    "colab": {
     "base_uri": "https://localhost:8080/",
     "height": 206
    },
    "id": "Pp1l2gLFCZst",
    "outputId": "1a506167-adb3-495a-893c-7575b0878e54"
   },
   "outputs": [],
   "source": []
  },
  {
   "cell_type": "code",
   "execution_count": null,
   "metadata": {
    "id": "jsdJ188xCqKE"
   },
   "outputs": [],
   "source": []
  },
  {
   "cell_type": "code",
   "execution_count": null,
   "metadata": {
    "colab": {
     "base_uri": "https://localhost:8080/"
    },
    "id": "t-AJzpnyCsnp",
    "outputId": "fefd41e5-f424-4757-97d7-327e1fd86d9b"
   },
   "outputs": [],
   "source": []
  },
  {
   "cell_type": "code",
   "execution_count": null,
   "metadata": {
    "colab": {
     "base_uri": "https://localhost:8080/",
     "height": 178
    },
    "id": "TzNko8qMDFYe",
    "outputId": "e37947ff-5947-4be3-e61a-830b6f76e79f"
   },
   "outputs": [],
   "source": []
  },
  {
   "cell_type": "markdown",
   "metadata": {
    "id": "5EgW1o6kFD_K"
   },
   "source": [
    "Lignes blanches = valeurs manquantes"
   ]
  },
  {
   "cell_type": "code",
   "execution_count": null,
   "metadata": {
    "colab": {
     "base_uri": "https://localhost:8080/",
     "height": 961
    },
    "id": "0_Ic41nREXW_",
    "outputId": "03ce4a96-1c27-4d10-a886-70a303dee7fd"
   },
   "outputs": [],
   "source": []
  },
  {
   "cell_type": "markdown",
   "metadata": {
    "id": "j_KIPXjI8lc8"
   },
   "source": [
    "# Partie 2 : Projet \"Customer Segmentation Classification\"\n",
    "\n",
    "Une entreprise automobile envisage de pénétrer de nouveaux marchés avec ses produits existants (P1, P2, P3, P4 et P5). Après une étude de marché intensive, elle en a déduit que le comportement du nouveau marché est similaire à celui de son marché existant.\n",
    "\n",
    "Sur le marché existant, l'équipe de vente a classé tous les clients en quatre segments (A, B, C, D). Elle a ensuite mené des actions de sensibilisation et de communication segmentées pour chaque segment de clients. Cette stratégie a exceptionnellement bien fonctionné. Elle prévoit d'utiliser la même stratégie pour les nouveaux marchés et a identifié 1000 nouveaux clients potentiels.\n",
    "\n",
    "Il vous est demandé d'aider le directeur à prévoir le bon groupe de nouveaux clients.\n",
    "\n",
    "Ces données se trouve dans le fichier [Customer_Segmentation.csv](https://moodle.vinci.be/mod/resource/view.php?id=191997) se trouvant sur moodle\n",
    "\n",
    "Nous vous demandons de fournir un modèle permettant de faire des prédictions <strong> sur le segment dans lequel classer chaque nouveau client. </strong>\n",
    "\n",
    "Pour faire, vous allez suivre la méthodologie présentée dans les vidéos :"
   ]
  },
  {
   "cell_type": "code",
   "execution_count": 18,
   "metadata": {},
   "outputs": [],
   "source": [
    "import numpy as np\n",
    "import pandas as pd\n",
    "import matplotlib.pyplot as plt\n",
    "import seaborn as sns"
   ]
  },
  {
   "cell_type": "code",
   "execution_count": 19,
   "metadata": {},
   "outputs": [],
   "source": [
    "data = pd.read_excel('Customer_Segmentation.xlsx')"
   ]
  },
  {
   "cell_type": "code",
   "execution_count": 20,
   "metadata": {},
   "outputs": [
    {
     "data": {
      "text/html": [
       "<div>\n",
       "<style scoped>\n",
       "    .dataframe tbody tr th:only-of-type {\n",
       "        vertical-align: middle;\n",
       "    }\n",
       "\n",
       "    .dataframe tbody tr th {\n",
       "        vertical-align: top;\n",
       "    }\n",
       "\n",
       "    .dataframe thead th {\n",
       "        text-align: right;\n",
       "    }\n",
       "</style>\n",
       "<table border=\"1\" class=\"dataframe\">\n",
       "  <thead>\n",
       "    <tr style=\"text-align: right;\">\n",
       "      <th></th>\n",
       "      <th>ID</th>\n",
       "      <th>Gender</th>\n",
       "      <th>Ever_Married</th>\n",
       "      <th>Age</th>\n",
       "      <th>Graduated</th>\n",
       "      <th>Profession</th>\n",
       "      <th>Work_Experience</th>\n",
       "      <th>Spending_Score</th>\n",
       "      <th>Family_Size</th>\n",
       "      <th>Var_1</th>\n",
       "      <th>Segmentation</th>\n",
       "    </tr>\n",
       "  </thead>\n",
       "  <tbody>\n",
       "    <tr>\n",
       "      <th>0</th>\n",
       "      <td>460108</td>\n",
       "      <td>Male</td>\n",
       "      <td>Yes</td>\n",
       "      <td>42</td>\n",
       "      <td>Yes</td>\n",
       "      <td>Artist</td>\n",
       "      <td>1.0</td>\n",
       "      <td>Average</td>\n",
       "      <td>3.0</td>\n",
       "      <td>Cat_2</td>\n",
       "      <td>C</td>\n",
       "    </tr>\n",
       "    <tr>\n",
       "      <th>1</th>\n",
       "      <td>459869</td>\n",
       "      <td>Female</td>\n",
       "      <td>No</td>\n",
       "      <td>23</td>\n",
       "      <td>No</td>\n",
       "      <td>Healthcare</td>\n",
       "      <td>1.0</td>\n",
       "      <td>Low</td>\n",
       "      <td>3.0</td>\n",
       "      <td>Cat_6</td>\n",
       "      <td>D</td>\n",
       "    </tr>\n",
       "    <tr>\n",
       "      <th>2</th>\n",
       "      <td>460192</td>\n",
       "      <td>Male</td>\n",
       "      <td>Yes</td>\n",
       "      <td>41</td>\n",
       "      <td>Yes</td>\n",
       "      <td>NaN</td>\n",
       "      <td>0.0</td>\n",
       "      <td>Low</td>\n",
       "      <td>2.0</td>\n",
       "      <td>Cat_7</td>\n",
       "      <td>D</td>\n",
       "    </tr>\n",
       "    <tr>\n",
       "      <th>3</th>\n",
       "      <td>463582</td>\n",
       "      <td>Female</td>\n",
       "      <td>No</td>\n",
       "      <td>18</td>\n",
       "      <td>No</td>\n",
       "      <td>Healthcare</td>\n",
       "      <td>1.0</td>\n",
       "      <td>Low</td>\n",
       "      <td>3.0</td>\n",
       "      <td>Cat_6</td>\n",
       "      <td>D</td>\n",
       "    </tr>\n",
       "    <tr>\n",
       "      <th>4</th>\n",
       "      <td>467114</td>\n",
       "      <td>Male</td>\n",
       "      <td>Yes</td>\n",
       "      <td>59</td>\n",
       "      <td>Yes</td>\n",
       "      <td>Marketing</td>\n",
       "      <td>0.0</td>\n",
       "      <td>Average</td>\n",
       "      <td>3.0</td>\n",
       "      <td>Cat_6</td>\n",
       "      <td>B</td>\n",
       "    </tr>\n",
       "  </tbody>\n",
       "</table>\n",
       "</div>"
      ],
      "text/plain": [
       "       ID  Gender Ever_Married  Age Graduated  Profession  Work_Experience  \\\n",
       "0  460108    Male          Yes   42       Yes      Artist              1.0   \n",
       "1  459869  Female           No   23        No  Healthcare              1.0   \n",
       "2  460192    Male          Yes   41       Yes         NaN              0.0   \n",
       "3  463582  Female           No   18        No  Healthcare              1.0   \n",
       "4  467114    Male          Yes   59       Yes   Marketing              0.0   \n",
       "\n",
       "  Spending_Score  Family_Size  Var_1 Segmentation  \n",
       "0        Average          3.0  Cat_2            C  \n",
       "1            Low          3.0  Cat_6            D  \n",
       "2            Low          2.0  Cat_7            D  \n",
       "3            Low          3.0  Cat_6            D  \n",
       "4        Average          3.0  Cat_6            B  "
      ]
     },
     "execution_count": 20,
     "metadata": {},
     "output_type": "execute_result"
    }
   ],
   "source": [
    "data.head()"
   ]
  },
  {
   "cell_type": "code",
   "execution_count": 21,
   "metadata": {},
   "outputs": [],
   "source": [
    "df = data.copy()"
   ]
  },
  {
   "cell_type": "code",
   "execution_count": 22,
   "metadata": {},
   "outputs": [
    {
     "data": {
      "text/plain": [
       "(7068, 11)"
      ]
     },
     "execution_count": 22,
     "metadata": {},
     "output_type": "execute_result"
    }
   ],
   "source": [
    "df.shape"
   ]
  },
  {
   "cell_type": "code",
   "execution_count": 23,
   "metadata": {},
   "outputs": [
    {
     "data": {
      "text/plain": [
       "object     7\n",
       "int64      2\n",
       "float64    2\n",
       "Name: count, dtype: int64"
      ]
     },
     "execution_count": 23,
     "metadata": {},
     "output_type": "execute_result"
    }
   ],
   "source": [
    "df.dtypes.value_counts()"
   ]
  },
  {
   "cell_type": "code",
   "execution_count": null,
   "metadata": {},
   "outputs": [],
   "source": [
    "plt.figure(figsize=(10,7))\n",
    "sns.heatmap(df.isna(), cbar=False)"
   ]
  },
  {
   "cell_type": "markdown",
   "metadata": {
    "id": "eWa-fn1MCVQR"
   },
   "source": [
    "# **I. EXPLORATORY DATA ANALYSIS**\n",
    "\n",
    "## 1) Objectif :\n",
    "- Comprendre du mieux possible nos données (un petit pas en avant vaut mieux qu'un grand pas en arriere)\n",
    "- Développer une premiere stratégie de modélisation\n",
    "\n",
    "## 2) Analyse de Forme :\n",
    "- **variable target** : Segmentation\n",
    "- **lignes et colonnes** :  7068,11 \n",
    "- **types de variables** : 2 qualitatives, 9 quantitatives\n",
    "- **Analyse des valeurs manquantes** :\n",
    "\n",
    "    [ Votre réponse ici ]"
   ]
  },
  {
   "cell_type": "code",
   "execution_count": null,
   "metadata": {
    "id": "6jP9jGOu59wa"
   },
   "outputs": [],
   "source": [
    "#Imports\n",
    "import numpy as np\n",
    "import pandas as pd\n",
    "import matplotlib.pyplot as plt\n",
    "import seaborn as sns"
   ]
  },
  {
   "cell_type": "code",
   "execution_count": null,
   "metadata": {
    "id": "OyRq-Rpc6c7W"
   },
   "outputs": [],
   "source": []
  },
  {
   "cell_type": "markdown",
   "metadata": {
    "id": "hb9gnDyUDjan"
   },
   "source": [
    "## 3) Analyse de Fond :\n",
    "- **Visualisation de la target** :\n",
    "    \n",
    "    [ Votre réponse ici ]\n",
    "    \n",
    "    \n",
    "- **Signification des variables** :\n",
    "    \n",
    "    [ Votre réponse ici ]\n",
    "\n",
    "- **Relation Variables / Target** :\n",
    "\n",
    "    [ Votre réponse ici ]\n",
    "\n",
    "- **Choix de la métrique** : Etant donné le problème quelle mesure serait la plus appropriée et pourquoi?\n",
    "\n",
    "    [ Votre réponse ici ]\n",
    "\n",
    "- **Outliers et/ou autre analyse** :\n",
    "\n",
    "    [ Votre réponse ici ]"
   ]
  },
  {
   "cell_type": "code",
   "execution_count": null,
   "metadata": {
    "id": "YVoJWCylEIYo"
   },
   "outputs": [],
   "source": [
    "#Votre code pour l'analyse de Fond"
   ]
  },
  {
   "cell_type": "markdown",
   "metadata": {
    "id": "6VNmeIK-ERzu"
   },
   "source": [
    "## **II) PRE-PROCESSING :**\n",
    "\n",
    "##Objectif :  \n",
    "- Transformer le data pour le mettre dans un format propice au machine learning\n",
    "\n",
    "##Explications de vos choix :\n",
    "[ Vos explications ici ]"
   ]
  },
  {
   "cell_type": "code",
   "execution_count": null,
   "metadata": {
    "id": "E9LmHujhE4YI"
   },
   "outputs": [],
   "source": [
    "#Code pour votre pre-processing"
   ]
  },
  {
   "cell_type": "markdown",
   "metadata": {
    "id": "k-eORh3pFix2"
   },
   "source": [
    "##**III) MODELLING**\n",
    "\n",
    "##Objectif :  \n",
    "- Développer un modèle de machine learning capable de répondre a l'objectif final.\n",
    "\n",
    "##Explications de vos choix :\n",
    "[ Vos explications ici ]"
   ]
  },
  {
   "cell_type": "code",
   "execution_count": null,
   "metadata": {
    "id": "vQOvWy9qF2X0"
   },
   "outputs": [],
   "source": [
    "#Code votre modelling"
   ]
  },
  {
   "cell_type": "markdown",
   "metadata": {
    "id": "wHj6FnRdHMVA"
   },
   "source": [
    "##**IV) Tests du modèle**##\n",
    "\n",
    "Pour tester, votre modèle nous vous demandons de prédire les décisions pour les clients du fichier Customer_Segmentation et <strong> d'afficher le score de vos prédictions (l'accuracy, la précision ou le recall selon ce que vous avez choisi).</strong>\n",
    "\n",
    "\n",
    "Le fichier [Customer_Segmentation_test.csv](https://moodle.vinci.be/mod/resource/view.php?id=192001) contient les données des 1000 clients pour lesquels vous devez prédire le groupe.\n",
    "Pour ce faire, on vous demande de soumettre un fichier csv contenant les prédictions dans le même ordre que les clients du fichier Custom_Segmentation_test.csv. Ce fichier devra avoir la forme du fichier [Customer_Segmentation_predicition_submission.csv](https://moodle.vinci.be/mod/resource/view.php?id=192007) se trouvant aussi sur moodle.\n",
    "\n",
    "\n",
    "\n"
   ]
  },
  {
   "cell_type": "code",
   "execution_count": null,
   "metadata": {
    "id": "-YlWksUxNnJ1"
   },
   "outputs": [],
   "source": [
    "#Code pour vos tests et vos résultats"
   ]
  }
 ],
 "metadata": {
  "colab": {
   "include_colab_link": true,
   "provenance": []
  },
  "kernelspec": {
   "display_name": "Python 3",
   "name": "python3"
  },
  "language_info": {
   "codemirror_mode": {
    "name": "ipython",
    "version": 3
   },
   "file_extension": ".py",
   "mimetype": "text/x-python",
   "name": "python",
   "nbconvert_exporter": "python",
   "pygments_lexer": "ipython3",
   "version": "3.12.6"
  }
 },
 "nbformat": 4,
 "nbformat_minor": 0
}
